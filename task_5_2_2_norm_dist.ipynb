{
 "cells": [
  {
   "cell_type": "code",
   "execution_count": null,
   "id": "c99a9cc5",
   "metadata": {},
   "outputs": [],
   "source": []
  },
  {
   "cell_type": "code",
   "execution_count": 136,
   "id": "1099250b",
   "metadata": {},
   "outputs": [
    {
     "name": "stdout",
     "output_type": "stream",
     "text": [
      "Складывыаем значения из выборок 4  и  3\n"
     ]
    },
    {
     "data": {
      "text/plain": [
       "<function matplotlib.pyplot.show(close=None, block=None)>"
      ]
     },
     "execution_count": 136,
     "metadata": {},
     "output_type": "execute_result"
    },
    {
     "data": {
      "image/png": "[encoded data removed]",
      "text/plain": [
       "<Figure size 432x288 with 1 Axes>"
      ]
     },
     "metadata": {
      "needs_background": "light"
     },
     "output_type": "display_data"
    }
   ],
   "source": [
    "#Сгенерируйте десять выборок случайных чисел х0, …, х9.\n",
    "#и постройте гистограмму распределения случайной суммы  +х0+ …+ х 9. \n",
    "%matplotlib inline\n",
    "import numpy as np\n",
    "import math as ma\n",
    "import matplotlib.pyplot as plt\n",
    "import matplotlib.mlab as mlab\n",
    "\n",
    "mu = 10\n",
    "sigma = 15\n",
    "\n",
    "x=np.random.random((10,100))\n",
    "for i in range( 10):\n",
    "    for j in range( 10):\n",
    "        x[i][j]=mu+sigma*np.random.uniform(0, 1)\n",
    "\n",
    "a = np.random.randint(0,10)\n",
    "b = np.random.randint(0,10)\n",
    "print(\"Складывыаем значения из выборок\",a, \" и \", b)\n",
    "for j in range(10):\n",
    "      y[j] = x[a][j]+x[b][j]\n",
    "\n",
    "\n",
    "num_bins = 20\n",
    "\n",
    "n, bins, patches = plt.hist(y, num_bins)\n",
    "plt.show\n",
    "\n"
   ]
  },
  {
   "cell_type": "code",
   "execution_count": null,
   "id": "9a0ea58b",
   "metadata": {},
   "outputs": [],
   "source": [
    "\n",
    "\n",
    "\n",
    "        "
   ]
  },
  {
   "cell_type": "code",
   "execution_count": null,
   "id": "4f0ad1ba",
   "metadata": {},
   "outputs": [],
   "source": []
  },
  {
   "cell_type": "code",
   "execution_count": null,
   "id": "9a43d3d4",
   "metadata": {},
   "outputs": [],
   "source": []
  },
  {
   "cell_type": "code",
   "execution_count": null,
   "id": "aa1c1b0d",
   "metadata": {},
   "outputs": [],
   "source": []
  }
 ],
 "metadata": {
  "kernelspec": {
   "display_name": "Python 3 (ipykernel)",
   "language": "python",
   "name": "python3"
  },
  "language_info": {
   "codemirror_mode": {
    "name": "ipython",
    "version": 3
   },
   "file_extension": ".py",
   "mimetype": "text/x-python",
   "name": "python",
   "nbconvert_exporter": "python",
   "pygments_lexer": "ipython3",
   "version": "3.9.7"
  }
 },
 "nbformat": 4,
 "nbformat_minor": 5
}
