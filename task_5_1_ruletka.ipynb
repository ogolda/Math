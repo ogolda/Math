{
 "cells": [
  {
   "cell_type": "code",
   "execution_count": 16,
   "id": "c99a9cc5",
   "metadata": {},
   "outputs": [
    {
     "data": {
      "text/plain": [
       "0.16335721460693697"
      ]
     },
     "execution_count": 16,
     "metadata": {},
     "output_type": "execute_result"
    }
   ],
   "source": []
  },
  {
   "cell_type": "code",
   "execution_count": null,
   "id": "1099250b",
   "metadata": {},
   "outputs": [
    {
     "name": "stdout",
     "output_type": "stream",
     "text": [
      "\n",
      "33.49654195104672\n",
      "chernoe\n",
      "\n",
      "35.50478491412567\n",
      "chernoe\n",
      "\n",
      "10.819264282279088\n",
      "krasnoe\n"
     ]
    }
   ],
   "source": [
    "%matplotlib inline\n",
    "import numpy as np\n",
    "for i in range(0, 10):\n",
    "    a = input()\n",
    "    x = np.random.uniform(0,37)\n",
    "\n",
    "    if x<18:\n",
    "        print(\"krasnoe\")\n",
    "    if x>18:\n",
    "        if x<37:\n",
    "            print(\"chernoe\")\n",
    "    if x == 37:\n",
    "        print(\"zero\")\n",
    "\n",
    "        \n",
    "        "
   ]
  },
  {
   "cell_type": "code",
   "execution_count": null,
   "id": "9a0ea58b",
   "metadata": {},
   "outputs": [],
   "source": [
    "\n",
    "\n",
    "\n",
    "        "
   ]
  },
  {
   "cell_type": "code",
   "execution_count": null,
   "id": "4f0ad1ba",
   "metadata": {},
   "outputs": [],
   "source": []
  }
 ],
 "metadata": {
  "kernelspec": {
   "display_name": "Python 3 (ipykernel)",
   "language": "python",
   "name": "python3"
  },
  "language_info": {
   "codemirror_mode": {
    "name": "ipython",
    "version": 3
   },
   "file_extension": ".py",
   "mimetype": "text/x-python",
   "name": "python",
   "nbconvert_exporter": "python",
   "pygments_lexer": "ipython3",
   "version": "3.9.7"
  }
 },
 "nbformat": 4,
 "nbformat_minor": 5
}
