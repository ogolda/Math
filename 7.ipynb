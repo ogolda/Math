{
 "cells": [
  {
   "cell_type": "code",
   "execution_count": 5,
   "id": "b189a873",
   "metadata": {},
   "outputs": [
    {
     "name": "stdout",
     "output_type": "stream",
     "text": [
      "a= 444.18 , b= 2.62\n"
     ]
    }
   ],
   "source": [
    "#1\n",
    "import numpy as np\n",
    "x = np.array([35, 45, 190, 200, 40, 70, 54, 150, 120, 110])\n",
    "y = np.array([401, 574, 874, 919, 459, 739, 653, 902, 746, 832])\n",
    "n = len(x)\n",
    "b = (np.mean(x*y) - np.mean(x)*np.mean(y))/(np.mean(x**2) - np.mean(x)**2)\n",
    "a = np.mean(y)-b*np.mean(x)\n",
    "print (\"a=\", round(a,2), \", b=\", round(b,2))"
   ]
  },
  {
   "cell_type": "code",
   "execution_count": 22,
   "id": "8e31b0ec",
   "metadata": {},
   "outputs": [
    {
     "data": {
      "text/plain": [
       "array([[5.88982042]])"
      ]
     },
     "execution_count": 22,
     "metadata": {},
     "output_type": "execute_result"
    }
   ],
   "source": [
    "x = np.array([35, 45, 190, 200, 40, 70, 54, 150, 120, 110])\n",
    "y = np.array([401, 574, 874, 919, 459, 739, 653, 902, 746, 832])\n",
    "x = x.reshape((10,1))\n",
    "y = y.reshape((10,1))\n",
    "a1 = np.linalg.inv(np.dot(x.T,x))\n",
    "a2 = np.dot(x.T,y)\n",
    "a = np.dot(a1,a2)\n",
    "a"
   ]
  },
  {
   "cell_type": "code",
   "execution_count": 23,
   "id": "c8843777",
   "metadata": {},
   "outputs": [
    {
     "data": {
      "text/plain": [
       "array([[444.17735732],\n",
       "       [  2.62053888]])"
      ]
     },
     "execution_count": 23,
     "metadata": {},
     "output_type": "execute_result"
    }
   ],
   "source": [
    "x = np.hstack([np.ones((10,1)),x])\n",
    "a1 = np.linalg.inv(np.dot(x.T,x))\n",
    "a2 = np.dot(x.T,y)\n",
    "a = np.dot(a1,a2)\n",
    "a"
   ]
  },
  {
   "cell_type": "code",
   "execution_count": 24,
   "id": "82aaf7fb",
   "metadata": {},
   "outputs": [],
   "source": [
    "x = np.array([35, 45, 190, 200, 40, 70, 54, 150, 120, 110])\n",
    "y = np.array([401, 574, 874, 919, 459, 739, 653, 902, 746, 832])"
   ]
  },
  {
   "cell_type": "code",
   "execution_count": 30,
   "id": "25aacaa5",
   "metadata": {},
   "outputs": [],
   "source": [
    "b1 = 0.1\n",
    "alfa = 1e-6"
   ]
  },
  {
   "cell_type": "code",
   "execution_count": 38,
   "id": "1391ac6d",
   "metadata": {},
   "outputs": [],
   "source": [
    "def mse(b1, y=y, x=x, n=10):\n",
    "    return np.sum((b1*x-y)**2/n)"
   ]
  },
  {
   "cell_type": "code",
   "execution_count": 39,
   "id": "8d3a33c9",
   "metadata": {},
   "outputs": [
    {
     "name": "stdout",
     "output_type": "stream",
     "text": [
      "шаг 9999 b1= 5.889820420132673 mse= 56516.85841571942\n"
     ]
    }
   ],
   "source": [
    "for i in range(10000):\n",
    "    b1-=alfa*(2/10)*np.sum((b1*x-y)*x)\n",
    "print('шаг', i, 'b1=', b1, 'mse=', mse(b1))"
   ]
  },
  {
   "cell_type": "code",
   "execution_count": 47,
   "id": "ec116519",
   "metadata": {},
   "outputs": [],
   "source": [
    "b1=0.1\n",
    "b0=0.1"
   ]
  },
  {
   "cell_type": "code",
   "execution_count": 48,
   "id": "988d5c31",
   "metadata": {},
   "outputs": [],
   "source": [
    "def mse(b0, b1, y=y, x=x, n=10):\n",
    "    return np.sum((b0+b1*x-y)**2/n)"
   ]
  },
  {
   "cell_type": "code",
   "execution_count": 51,
   "id": "eb00eee0",
   "metadata": {},
   "outputs": [
    {
     "name": "stdout",
     "output_type": "stream",
     "text": [
      "шаг 3499999 b0= 431.43692909319407 b1= 2.7143140194811703 mse= 6511.588711840428\n"
     ]
    }
   ],
   "source": [
    "for i in range(3500000):\n",
    "    y_est = b0+b1*x\n",
    "    b0 -=alfa*(2/10)*np.sum((b0+b1*x) - y)\n",
    "    b1-=alfa*(2/10)*np.sum(((b0+b1*x) - y)*x)\n",
    "print('шаг', i, 'b0=', b0, 'b1=', b1, 'mse=', mse(b0, b1))"
   ]
  },
  {
   "cell_type": "code",
   "execution_count": null,
   "id": "18e4ce67",
   "metadata": {},
   "outputs": [],
   "source": [
    "#2\n",
    "Критерий Стьюдента применяется для выборок, \n",
    "которые подчиняются нормальному закону распределения."
   ]
  }
 ],
 "metadata": {
  "kernelspec": {
   "display_name": "Python 3 (ipykernel)",
   "language": "python",
   "name": "python3"
  },
  "language_info": {
   "codemirror_mode": {
    "name": "ipython",
    "version": 3
   },
   "file_extension": ".py",
   "mimetype": "text/x-python",
   "name": "python",
   "nbconvert_exporter": "python",
   "pygments_lexer": "ipython3",
   "version": "3.9.7"
  }
 },
 "nbformat": 4,
 "nbformat_minor": 5
}
