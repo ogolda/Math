{
 "cells": [
  {
   "cell_type": "code",
   "execution_count": null,
   "id": "c99a9cc5",
   "metadata": {},
   "outputs": [],
   "source": []
  },
  {
   "cell_type": "code",
   "execution_count": 82,
   "id": "1099250b",
   "metadata": {},
   "outputs": [
    {
     "name": "stdout",
     "output_type": "stream",
     "text": [
      "11 19 0\n",
      "Вероятность выпадения красного =  0.367\n",
      "Вероятность выпадения черного =  0.633\n",
      "Вероятность выпадения zero =  0.0\n",
      "\n",
      "Проверка теории сложения вероятностей для нескольких несовместных событий\n",
      "Сумма вероятностей выпадения красного и черного (без учета zero) =  1.0\n",
      "Проверка =  1.0\n"
     ]
    }
   ],
   "source": [
    "%matplotlib inline\n",
    "import numpy as np\n",
    "import math as ma\n",
    "el = 30\n",
    "np.random.rand(el)\n",
    "k, c, z, i = 0, 0, 0, 0\n",
    "x=np.round(1+37*np.random.rand(el),0)\n",
    "for i in range(len(x)):\n",
    "    if x[i]<18:\n",
    "        k = k + 1\n",
    "    if x[i]>17:\n",
    "        if x[i]<37:\n",
    "            c =  c + 1\n",
    "    if x[i] == 37:\n",
    "        z = z + 1\n",
    "        \n",
    "print(k, c, z)\n",
    "\n",
    "prob_k = k/len(x)\n",
    "prob_c = c/len(x)\n",
    "prob_z = z/len(x)\n",
    "print(\"Вероятность выпадения красного = \", np.round(prob_k, 3) )\n",
    "print(\"Вероятность выпадения черного = \", np.round(prob_c, 3) )\n",
    "print(\"Вероятность выпадения zero = \", np.round(prob_z, 3) )\n",
    "print()\n",
    "print(\"Проверка теории сложения вероятностей для нескольких несовместных событий\")\n",
    "print(\"Сумма вероятностей выпадения красного и черного (без учета zero) = \" , round(prob_k + prob_c, 3) )\n",
    "print(\"Проверка = \", round((k+c)/len(x),3))\n",
    "        \n",
    "        "
   ]
  },
  {
   "cell_type": "code",
   "execution_count": null,
   "id": "9a0ea58b",
   "metadata": {},
   "outputs": [],
   "source": [
    "\n",
    "\n",
    "\n",
    "        "
   ]
  },
  {
   "cell_type": "code",
   "execution_count": null,
   "id": "4f0ad1ba",
   "metadata": {},
   "outputs": [],
   "source": []
  },
  {
   "cell_type": "code",
   "execution_count": null,
   "id": "b6758473",
   "metadata": {},
   "outputs": [],
   "source": []
  },
  {
   "cell_type": "code",
   "execution_count": null,
   "id": "a88d778a",
   "metadata": {},
   "outputs": [],
   "source": []
  }
 ],
 "metadata": {
  "kernelspec": {
   "display_name": "Python 3 (ipykernel)",
   "language": "python",
   "name": "python3"
  },
  "language_info": {
   "codemirror_mode": {
    "name": "ipython",
    "version": 3
   },
   "file_extension": ".py",
   "mimetype": "text/x-python",
   "name": "python",
   "nbconvert_exporter": "python",
   "pygments_lexer": "ipython3",
   "version": "3.9.7"
  }
 },
 "nbformat": 4,
 "nbformat_minor": 5
}
