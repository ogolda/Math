{
 "cells": [
  {
   "cell_type": "code",
   "execution_count": 10,
   "id": "7a29c070",
   "metadata": {},
   "outputs": [],
   "source": [
    "import numpy as np\n",
    "np.set_printoptions(precision=2, suppress=True)"
   ]
  },
  {
   "cell_type": "code",
   "execution_count": 11,
   "id": "a64ad2ba",
   "metadata": {},
   "outputs": [
    {
     "name": "stdout",
     "output_type": "stream",
     "text": [
      "Матрица A:\n",
      "[[ 1  2  0]\n",
      " [ 0  0  5]\n",
      " [ 3 -4  2]\n",
      " [ 1  6  5]\n",
      " [ 0  1  0]]\n"
     ]
    }
   ],
   "source": [
    "A = np.array([[1, 2, 0],\n",
    "              [0, 0, 5],\n",
    "             [3, -4, 2],\n",
    "             [1, 6, 5],\n",
    "             [0, 1, 0]])\n",
    "print(f'Матрица A:\\n{A}')"
   ]
  },
  {
   "cell_type": "code",
   "execution_count": 12,
   "id": "358a5766",
   "metadata": {},
   "outputs": [],
   "source": [
    "\n",
    "U, s, W = np.linalg.svd(A)\n",
    "\n",
    "# Транспонируем матрицу W\n",
    "V = W.T\n",
    "\n",
    "# s - список диагональных элементов, его нужно привести к виду диагональной матрицы для наглядности\n",
    "D = np.zeros_like(A, dtype=float)\n",
    "D[np.diag_indices(min(A.shape))] = s"
   ]
  },
  {
   "cell_type": "code",
   "execution_count": 13,
   "id": "c29c0222",
   "metadata": {},
   "outputs": [
    {
     "name": "stdout",
     "output_type": "stream",
     "text": [
      "Матрица D:\n",
      "[[8.82 0.   0.  ]\n",
      " [0.   6.14 0.  ]\n",
      " [0.   0.   2.53]\n",
      " [0.   0.   0.  ]\n",
      " [0.   0.   0.  ]]\n"
     ]
    }
   ],
   "source": [
    "print(f'Матрица D:\\n{D}')"
   ]
  },
  {
   "cell_type": "code",
   "execution_count": 14,
   "id": "7d044a34",
   "metadata": {},
   "outputs": [
    {
     "name": "stdout",
     "output_type": "stream",
     "text": [
      "Матрица U:\n",
      "[[ 0.17  0.16 -0.53 -0.8  -0.16]\n",
      " [ 0.39 -0.53  0.61 -0.43  0.03]\n",
      " [-0.14 -0.82 -0.52  0.14  0.07]\n",
      " [ 0.89  0.06 -0.25  0.38 -0.06]\n",
      " [ 0.08  0.11 -0.08 -0.11  0.98]]\n"
     ]
    }
   ],
   "source": [
    "print(f'Матрица U:\\n{U}')"
   ]
  },
  {
   "cell_type": "code",
   "execution_count": 15,
   "id": "23c81074",
   "metadata": {},
   "outputs": [
    {
     "name": "stdout",
     "output_type": "stream",
     "text": [
      "[[ 1. -0.  0.  0.  0.]\n",
      " [-0.  1. -0. -0. -0.]\n",
      " [ 0. -0.  1.  0. -0.]\n",
      " [ 0. -0.  0.  1. -0.]\n",
      " [ 0. -0. -0. -0.  1.]]\n"
     ]
    }
   ],
   "source": [
    "# Убедимся, что она действительно ортогональна\n",
    "print(np.dot(U.T, U))"
   ]
  },
  {
   "cell_type": "code",
   "execution_count": 16,
   "id": "92b04234",
   "metadata": {},
   "outputs": [
    {
     "name": "stdout",
     "output_type": "stream",
     "text": [
      "Матрица V:\n",
      "[[ 0.07 -0.37 -0.93]\n",
      " [ 0.72  0.67 -0.21]\n",
      " [ 0.69 -0.65  0.31]]\n"
     ]
    }
   ],
   "source": [
    "print(f'Матрица V:\\n{V}')"
   ]
  },
  {
   "cell_type": "code",
   "execution_count": 17,
   "id": "037625ad",
   "metadata": {},
   "outputs": [
    {
     "name": "stdout",
     "output_type": "stream",
     "text": [
      "[[1. 0. 0.]\n",
      " [0. 1. 0.]\n",
      " [0. 0. 1.]]\n"
     ]
    }
   ],
   "source": [
    "# Убедимся, что она действительно ортогональна\n",
    "print(np.dot(V.T, V))"
   ]
  },
  {
   "cell_type": "code",
   "execution_count": 18,
   "id": "049b4a16",
   "metadata": {},
   "outputs": [
    {
     "name": "stdout",
     "output_type": "stream",
     "text": [
      "[[ 1.  2. -0.]\n",
      " [-0.  0.  5.]\n",
      " [ 3. -4.  2.]\n",
      " [ 1.  6.  5.]\n",
      " [ 0.  1.  0.]]\n"
     ]
    }
   ],
   "source": [
    "# Проведем проверку\n",
    "print(np.dot(np.dot(U, D), V.T))"
   ]
  },
  {
   "cell_type": "code",
   "execution_count": 21,
   "id": "5dd9f75c",
   "metadata": {},
   "outputs": [
    {
     "data": {
      "text/plain": [
       "11.045361017187261"
      ]
     },
     "execution_count": 21,
     "metadata": {},
     "output_type": "execute_result"
    }
   ],
   "source": [
    "np.linalg.norm(matrix, ord='fro', axis=None, keepdims=False) "
   ]
  },
  {
   "cell_type": "code",
   "execution_count": 22,
   "id": "bc57e302",
   "metadata": {},
   "outputs": [
    {
     "data": {
      "text/plain": [
       "11.045361017187261"
      ]
     },
     "execution_count": 22,
     "metadata": {},
     "output_type": "execute_result"
    }
   ],
   "source": [
    "np.linalg.norm(matrix) "
   ]
  },
  {
   "cell_type": "code",
   "execution_count": null,
   "id": "f952f7ec",
   "metadata": {},
   "outputs": [],
   "source": []
  },
  {
   "cell_type": "code",
   "execution_count": null,
   "id": "4f1c0562",
   "metadata": {},
   "outputs": [],
   "source": []
  }
 ],
 "metadata": {
  "kernelspec": {
   "display_name": "Python 3 (ipykernel)",
   "language": "python",
   "name": "python3"
  },
  "language_info": {
   "codemirror_mode": {
    "name": "ipython",
    "version": 3
   },
   "file_extension": ".py",
   "mimetype": "text/x-python",
   "name": "python",
   "nbconvert_exporter": "python",
   "pygments_lexer": "ipython3",
   "version": "3.9.7"
  }
 },
 "nbformat": 4,
 "nbformat_minor": 5
}
