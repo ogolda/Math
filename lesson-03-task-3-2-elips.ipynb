{
 "cells": [
  {
   "cell_type": "code",
   "execution_count": 1,
   "id": "40af9ec5",
   "metadata": {},
   "outputs": [
    {
     "name": "stderr",
     "output_type": "stream",
     "text": [
      "C:\\Users\\shpin\\AppData\\Local\\Temp/ipykernel_8748/3676444381.py:16: RuntimeWarning: invalid value encountered in sqrt\n",
      "  y = np.sqrt(b ** 2 - (b ** 2 * (i ** 2 / a ** 2)))\n",
      "C:\\Users\\shpin\\AppData\\Local\\Temp/ipykernel_8748/3676444381.py:18: RuntimeWarning: invalid value encountered in sqrt\n",
      "  y_ = -np.sqrt(b ** 2 - (b ** 2 * (i ** 2 / a ** 2)))\n"
     ]
    },
    {
     "data": {
      "image/png": "[encoded data removed]",
      "text/plain": [
       "<Figure size 432x288 with 1 Axes>"
      ]
     },
     "metadata": {
      "needs_background": "light"
     },
     "output_type": "display_data"
    }
   ],
   "source": [
    "%matplotlib inline\n",
    "import matplotlib.pyplot as plt\n",
    "import math\n",
    "import numpy as np\n",
    "\n",
    "x1= []\n",
    "x2 = []\n",
    "y1 = []\n",
    "y2 = []\n",
    "\n",
    "for i in range(10000):\n",
    "    a = 30\n",
    "    b = 20\n",
    "    x1.append(-i)\n",
    "    x2.append(i)\n",
    "    y = np.sqrt(b ** 2 - (b ** 2 * (i ** 2 / a ** 2)))\n",
    "    y1.append(y)\n",
    "    y_ = -np.sqrt(b ** 2 - (b ** 2 * (i ** 2 / a ** 2)))\n",
    "    y2.append(y_)\n",
    "       \n",
    "plt.plot(x1, y1, color='r')\n",
    "plt.plot(x1, y2, color='r')\n",
    "plt.plot(x2, y2, color='r')\n",
    "plt.plot(x2, y1, color='r')\n",
    "plt.axis('scaled')\n",
    "plt.show()\n"
   ]
  },
  {
   "cell_type": "code",
   "execution_count": null,
   "id": "17aa8056",
   "metadata": {},
   "outputs": [],
   "source": []
  }
 ],
 "metadata": {
  "kernelspec": {
   "display_name": "Python 3 (ipykernel)",
   "language": "python",
   "name": "python3"
  },
  "language_info": {
   "codemirror_mode": {
    "name": "ipython",
    "version": 3
   },
   "file_extension": ".py",
   "mimetype": "text/x-python",
   "name": "python",
   "nbconvert_exporter": "python",
   "pygments_lexer": "ipython3",
   "version": "3.9.7"
  }
 },
 "nbformat": 4,
 "nbformat_minor": 5
}
