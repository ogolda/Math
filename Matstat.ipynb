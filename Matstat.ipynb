{
 "cells": [
  {
   "cell_type": "code",
   "execution_count": 13,
   "id": "662c9939",
   "metadata": {},
   "outputs": [],
   "source": [
    "import numpy as np\n",
    "zp = np.array([35, 45, 190, 200, 40, 70, 54, 150, 120, 110])\n",
    "ks = np.array([401, 574, 874, 919, 459, 739, 653, 902, 746, 832])"
   ]
  },
  {
   "cell_type": "code",
   "execution_count": 29,
   "id": "2bcb5cc4",
   "metadata": {},
   "outputs": [
    {
     "data": {
      "text/plain": [
       "9157.84"
      ]
     },
     "execution_count": 29,
     "metadata": {},
     "output_type": "execute_result"
    }
   ],
   "source": [
    "a = len(zp)\n",
    "sx = np.array([])\n",
    "sy = np.array([])\n",
    "sx = zp - zp.mean()\n",
    "sy = ks - ks.mean()\n",
    "suma = sx*sy\n",
    "kovar = suma.sum()/a\n",
    "kovar"
   ]
  },
  {
   "cell_type": "code",
   "execution_count": 16,
   "id": "cc1abf2a",
   "metadata": {},
   "outputs": [
    {
     "data": {
      "text/plain": [
       "9157.840000000002"
      ]
     },
     "execution_count": 16,
     "metadata": {},
     "output_type": "execute_result"
    }
   ],
   "source": [
    "np.cov(ks, zp, ddof = 0)[0, 1]"
   ]
  },
  {
   "cell_type": "code",
   "execution_count": 26,
   "id": "79579d38",
   "metadata": {},
   "outputs": [
    {
     "data": {
      "text/plain": [
       "59.115480206118605"
      ]
     },
     "execution_count": 26,
     "metadata": {},
     "output_type": "execute_result"
    }
   ],
   "source": [
    "sko_zp =  ((zp - zp.mean())**2)\n",
    "sko_zp = (sko_zp.sum()/a)**(0.5)\n",
    "sko_zp"
   ]
  },
  {
   "cell_type": "code",
   "execution_count": 24,
   "id": "c5861039",
   "metadata": {},
   "outputs": [
    {
     "data": {
      "text/plain": [
       "59.115480206118605"
      ]
     },
     "execution_count": 24,
     "metadata": {},
     "output_type": "execute_result"
    }
   ],
   "source": [
    "np.std(zp)"
   ]
  },
  {
   "cell_type": "code",
   "execution_count": 27,
   "id": "22a305ed",
   "metadata": {},
   "outputs": [
    {
     "data": {
      "text/plain": [
       "174.55340157098058"
      ]
     },
     "execution_count": 27,
     "metadata": {},
     "output_type": "execute_result"
    }
   ],
   "source": [
    "sko_ks =  ((ks - ks.mean())**2)\n",
    "sko_ks = (sko_ks.sum()/a)**(0.5)\n",
    "sko_zp"
   ]
  },
  {
   "cell_type": "code",
   "execution_count": 28,
   "id": "27530477",
   "metadata": {},
   "outputs": [
    {
     "data": {
      "text/plain": [
       "174.55340157098058"
      ]
     },
     "execution_count": 28,
     "metadata": {},
     "output_type": "execute_result"
    }
   ],
   "source": [
    "np.std(ks)"
   ]
  },
  {
   "cell_type": "code",
   "execution_count": 32,
   "id": "a4a60cb2",
   "metadata": {},
   "outputs": [
    {
     "data": {
      "text/plain": [
       "0.8874900920739162"
      ]
     },
     "execution_count": 32,
     "metadata": {},
     "output_type": "execute_result"
    }
   ],
   "source": [
    "korel = kovar/(sko_zp*sko_ks)\n",
    "korel"
   ]
  },
  {
   "cell_type": "code",
   "execution_count": 38,
   "id": "b15269ed",
   "metadata": {},
   "outputs": [
    {
     "data": {
      "text/plain": [
       "array([[1.        , 0.88749009],\n",
       "       [0.88749009, 1.        ]])"
      ]
     },
     "execution_count": 38,
     "metadata": {},
     "output_type": "execute_result"
    }
   ],
   "source": [
    "np.corrcoef(zp, ks)"
   ]
  },
  {
   "cell_type": "code",
   "execution_count": 50,
   "id": "789b2dea",
   "metadata": {},
   "outputs": [
    {
     "name": "stdout",
     "output_type": "stream",
     "text": [
      "110.55660776308164 ,  125.64339223691834\n"
     ]
    }
   ],
   "source": [
    "# Задание 2\n",
    "#Найдите доверительный интервал для математического ожидания с надежностью 0.95.\n",
    "iq = np.array([131, 125, 115, 122, 131, 115, 107, 99, 125, 111])\n",
    "alfa = 0.05/2\n",
    "df = len(iq)-1\n",
    "t_stat = 2.262\n",
    "lower = iq.mean() - (t_stat*(iq.std(ddof=1))/((10)**0.5))\n",
    "higher = iq.mean() + (t_stat*(iq.std(ddof=1))/((10)**0.5))\n",
    "print(lower, \", \", higher)"
   ]
  },
  {
   "cell_type": "code",
   "execution_count": 53,
   "id": "931b52b2",
   "metadata": {},
   "outputs": [
    {
     "name": "stdout",
     "output_type": "stream",
     "text": [
      "172.31398912064722 ,  176.08601087935276\n"
     ]
    }
   ],
   "source": [
    "#Задание 3\n",
    "'''Известно, что рост футболистов в сборной распределен нормально\n",
    "с дисперсией генеральной совокупности, равной 25 кв.см. Объем выборки равен 27,\n",
    "среднее выборочное составляет 174.2. Найдите доверительный интервал для математического\n",
    "ожидания с надежностью 0.95.'''\n",
    "std = 5\n",
    "n = 27\n",
    "mu = 174.2\n",
    "alfa = 0.05/2\n",
    "t_stat = 1.96\n",
    "lower = mu-(t_stat*std/27**0.5)\n",
    "higher = mu+(t_stat*std/27**0.5)\n",
    "print(lower, \", \", higher)\n"
   ]
  },
  {
   "cell_type": "code",
   "execution_count": null,
   "id": "d5e567ac",
   "metadata": {},
   "outputs": [],
   "source": []
  }
 ],
 "metadata": {
  "kernelspec": {
   "display_name": "Python 3 (ipykernel)",
   "language": "python",
   "name": "python3"
  },
  "language_info": {
   "codemirror_mode": {
    "name": "ipython",
    "version": 3
   },
   "file_extension": ".py",
   "mimetype": "text/x-python",
   "name": "python",
   "nbconvert_exporter": "python",
   "pygments_lexer": "ipython3",
   "version": "3.9.7"
  }
 },
 "nbformat": 4,
 "nbformat_minor": 5
}
