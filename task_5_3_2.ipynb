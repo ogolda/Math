{
 "cells": [
  {
   "cell_type": "code",
   "execution_count": 2,
   "id": "b144ecb1",
   "metadata": {},
   "outputs": [
    {
     "name": "stdout",
     "output_type": "stream",
     "text": [
      "2507 10000 0.2507\n",
      "С =  4.0\n",
      "P =  0.25\n"
     ]
    }
   ],
   "source": [
    "import numpy as np\n",
    "import itertools\n",
    "k, n = 0, 10000\n",
    "sucsess = 3\n",
    "exp = 4\n",
    "a = np.random.randint(0, 2, n)\n",
    "b = np.random.randint(0, 2, n)\n",
    "c = np.random.randint(0, 2, n)\n",
    "d = np.random.randint(0, 2, n)\n",
    "x = a + b + c + d\n",
    "for i in range(0, n):\n",
    "    if x[i] == sucsess:\n",
    "        k = k +1\n",
    "print(k, n, k/n)\n",
    "# c из 4 по 2(к успехов среди н независимых испытаний)\n",
    "\n",
    "def factorial(f):\n",
    "    res = 1\n",
    "    for i in range(1, f + 1):\n",
    "        res *= i\n",
    "    return res\n",
    "\n",
    "n_f = factorial(exp)\n",
    "k_f = factorial(sucsess)\n",
    "n_k_f = factorial(exp-sucsess)\n",
    "c_n_k = n_f/(k_f*n_k_f)\n",
    "print(\"С = \" , c_n_k)\n",
    "print(\"P = \" , c_n_k/(pow(2, exp)))"
   ]
  },
  {
   "cell_type": "code",
   "execution_count": null,
   "id": "d6bdc390",
   "metadata": {},
   "outputs": [],
   "source": []
  }
 ],
 "metadata": {
  "kernelspec": {
   "display_name": "Python 3 (ipykernel)",
   "language": "python",
   "name": "python3"
  },
  "language_info": {
   "codemirror_mode": {
    "name": "ipython",
    "version": 3
   },
   "file_extension": ".py",
   "mimetype": "text/x-python",
   "name": "python",
   "nbconvert_exporter": "python",
   "pygments_lexer": "ipython3",
   "version": "3.9.7"
  }
 },
 "nbformat": 4,
 "nbformat_minor": 5
}
